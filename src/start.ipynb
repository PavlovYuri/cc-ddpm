{
 "cells": [
  {
   "cell_type": "code",
   "execution_count": null,
   "id": "e78a8d1b",
   "metadata": {},
   "outputs": [],
   "source": [
    "from dataclasses import dataclass\n",
    "from torchvision import transforms\n",
    "from data_handler import DataHandler\n",
    "from unet import UNet\n",
    "from ddpm import DDPM\n",
    "from train import train\n",
    "import torch\n",
    "import seaborn as sns\n",
    "import matplotlib.pyplot as plt\n",
    "from sample import ImgDataTransformer, sample_images"
   ]
  },
  {
   "cell_type": "code",
   "execution_count": null,
   "id": "eaa0e37a",
   "metadata": {},
   "outputs": [],
   "source": [
    "# some hyperparameters\n",
    "@dataclass\n",
    "class Hyperparameters:\n",
    "    width: int = 32\n",
    "    height: int = 32\n",
    "    eval_interval: int = 10\n",
    "    checkpoint_interval: int = 10\n",
    "    batch_size: int = 64\n",
    "    epochs: int = 300\n",
    "    n_classes: int = 100\n",
    "\n",
    "hyperparameters = Hyperparameters()"
   ]
  },
  {
   "cell_type": "code",
   "execution_count": null,
   "id": "6073f9b0",
   "metadata": {},
   "outputs": [],
   "source": [
    "transform = transforms.Compose([\n",
    "    transforms.ToTensor(),\n",
    "    transforms.Normalize(mean=[0.485, 0.456, 0.406], std=[0.229, 0.224, 0.225]),\n",
    "])\n",
    "\n",
    "data_handler = DataHandler(train_path=\"../cifar100/train\",\n",
    "                           val_path=\"../cifar100/test\",\n",
    "                           transform=transform,\n",
    "                           batch_size=hyperparameters.batch_size)"
   ]
  },
  {
   "cell_type": "code",
   "execution_count": null,
   "id": "d99a52c3",
   "metadata": {},
   "outputs": [],
   "source": [
    "unet_model = UNet(timesteps=1000, n_classes=hyperparameters.n_classes)\n",
    "model = DDPM(unet_model)"
   ]
  },
  {
   "cell_type": "code",
   "execution_count": null,
   "id": "b7d82067",
   "metadata": {},
   "outputs": [],
   "source": [
    "train_losses, val_losses = train(model=model,\n",
    "                      optimizer=torch.optim.Adam(params=model.parameters(), lr=3e-4),\n",
    "                      data_handler=data_handler,\n",
    "                      epochs=hyperparameters.epochs,\n",
    "                      eval_interval=hyperparameters.eval_interval,\n",
    "                      weights_save_path=\"../params/weights/weights.pth\",\n",
    "                      checkpoint_path=\"../params/checkpoints/checkpoint.pth\",\n",
    "                      checkpoint_interval=hyperparameters.checkpoint_interval,\n",
    "                      from_checkpoint=False)"
   ]
  },
  {
   "cell_type": "code",
   "execution_count": null,
   "id": "226951dc",
   "metadata": {},
   "outputs": [],
   "source": [
    "sns.set_theme(style=\"darkgrid\", font_scale=1.4)\n",
    "\n",
    "plt.figure(figsize=(8, 6))\n",
    "plt.title(\"Loss\")\n",
    "plt.plot(range(0, hyperparameters.epochs+1, hyperparameters.eval_interval), train_losses, label=\"Train\", linewidth=2)\n",
    "plt.plot(range(0, hyperparameters.epochs+1, hyperparameters.eval_interval), val_losses, label=\"Valid\", linewidth=2)\n",
    "plt.legend()\n",
    "plt.xlabel(\"Epoch\")\n",
    "plt.show()"
   ]
  },
  {
   "cell_type": "code",
   "execution_count": null,
   "id": "ecf97f26",
   "metadata": {},
   "outputs": [],
   "source": [
    "img_data_transformer = ImgDataTransformer(mean=[0.485, 0.456, 0.406],\n",
    "                                          std=[0.229, 0.224, 0.225],\n",
    "                                          device='cuda' if torch.cuda.is_available() else 'cpu')"
   ]
  },
  {
   "cell_type": "code",
   "execution_count": null,
   "id": "7de896ae",
   "metadata": {},
   "outputs": [],
   "source": [
    "sample_images(model, n_samples=6, img_size=(3, hyperparameters.width, hyperparameters.height), img_data_transformer=img_data_transformer, n_classes=hyperparameters.n_classes, cls=7)"
   ]
  }
 ],
 "metadata": {
  "kernelspec": {
   "display_name": "venv",
   "language": "python",
   "name": "python3"
  },
  "language_info": {
   "name": "python",
   "version": "3.11.4"
  }
 },
 "nbformat": 4,
 "nbformat_minor": 5
}
